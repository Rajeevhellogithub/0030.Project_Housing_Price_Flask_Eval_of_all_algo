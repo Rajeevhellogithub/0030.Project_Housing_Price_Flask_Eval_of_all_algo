{
 "cells": [
  {
   "cell_type": "code",
   "execution_count": 3,
   "id": "2e801425-32cc-4732-b3b5-8a1f14de2568",
   "metadata": {},
   "outputs": [],
   "source": [
    "import pandas as pd"
   ]
  },
  {
   "cell_type": "code",
   "execution_count": 1,
   "id": "ca493bf1-d039-4cd1-acfa-663c1ec368c8",
   "metadata": {},
   "outputs": [],
   "source": [
    "from sklearn.model_selection import train_test_split\n",
    "from sklearn.linear_model import(LinearRegression, Ridge, Lasso, ElasticNet, SGDRegressor, HuberRegressor)\n",
    "from sklearn.ensemble import RandomForestRegressor\n",
    "from sklearn.svm import SVR\n",
    "from sklearn.preprocessing import PolynomialFeatures\n",
    "from sklearn.pipeline import Pipeline\n",
    "from sklearn.neural_network import MLPRegressor\n",
    "from sklearn.neighbors import KNeighborsRegressor\n",
    "import lightgbm as lgb\n",
    "import xgboost as xgb\n",
    "from sklearn.metrics import(mean_absolute_error, mean_squared_error, r2_score)\n",
    "import pickle"
   ]
  },
  {
   "cell_type": "code",
   "execution_count": 4,
   "id": "0d35c385-6ae0-4e97-a614-aaff2297b757",
   "metadata": {},
   "outputs": [],
   "source": [
    "data = pd.read_csv(r'E:\\PYTHONCLASSJUPYTER\\PrakashSenapati\\2024_10_26_Housing_Price_Project\\USA_Housing.csv')"
   ]
  },
  {
   "cell_type": "code",
   "execution_count": 5,
   "id": "eb72a0b7-5f2a-49a2-bc67-22733da3a6c6",
   "metadata": {},
   "outputs": [
    {
     "data": {
      "text/plain": [
       "(5000, 7)"
      ]
     },
     "execution_count": 5,
     "metadata": {},
     "output_type": "execute_result"
    }
   ],
   "source": [
    "data.shape"
   ]
  },
  {
   "cell_type": "code",
   "execution_count": 7,
   "id": "4b6fc961-51a3-429b-b1a7-0ce8d4700214",
   "metadata": {},
   "outputs": [
    {
     "data": {
      "text/html": [
       "<div>\n",
       "<style scoped>\n",
       "    .dataframe tbody tr th:only-of-type {\n",
       "        vertical-align: middle;\n",
       "    }\n",
       "\n",
       "    .dataframe tbody tr th {\n",
       "        vertical-align: top;\n",
       "    }\n",
       "\n",
       "    .dataframe thead th {\n",
       "        text-align: right;\n",
       "    }\n",
       "</style>\n",
       "<table border=\"1\" class=\"dataframe\">\n",
       "  <thead>\n",
       "    <tr style=\"text-align: right;\">\n",
       "      <th></th>\n",
       "      <th>0</th>\n",
       "      <th>1</th>\n",
       "      <th>2</th>\n",
       "      <th>3</th>\n",
       "      <th>4</th>\n",
       "    </tr>\n",
       "  </thead>\n",
       "  <tbody>\n",
       "    <tr>\n",
       "      <th>Avg. Area Income</th>\n",
       "      <td>79545.458574</td>\n",
       "      <td>79248.642455</td>\n",
       "      <td>61287.067179</td>\n",
       "      <td>63345.240046</td>\n",
       "      <td>59982.197226</td>\n",
       "    </tr>\n",
       "    <tr>\n",
       "      <th>Avg. Area House Age</th>\n",
       "      <td>5.682861</td>\n",
       "      <td>6.0029</td>\n",
       "      <td>5.86589</td>\n",
       "      <td>7.188236</td>\n",
       "      <td>5.040555</td>\n",
       "    </tr>\n",
       "    <tr>\n",
       "      <th>Avg. Area Number of Rooms</th>\n",
       "      <td>7.009188</td>\n",
       "      <td>6.730821</td>\n",
       "      <td>8.512727</td>\n",
       "      <td>5.586729</td>\n",
       "      <td>7.839388</td>\n",
       "    </tr>\n",
       "    <tr>\n",
       "      <th>Avg. Area Number of Bedrooms</th>\n",
       "      <td>4.09</td>\n",
       "      <td>3.09</td>\n",
       "      <td>5.13</td>\n",
       "      <td>3.26</td>\n",
       "      <td>4.23</td>\n",
       "    </tr>\n",
       "    <tr>\n",
       "      <th>Area Population</th>\n",
       "      <td>23086.800503</td>\n",
       "      <td>40173.072174</td>\n",
       "      <td>36882.1594</td>\n",
       "      <td>34310.242831</td>\n",
       "      <td>26354.109472</td>\n",
       "    </tr>\n",
       "    <tr>\n",
       "      <th>Price</th>\n",
       "      <td>1059033.55787</td>\n",
       "      <td>1505890.914847</td>\n",
       "      <td>1058987.987876</td>\n",
       "      <td>1260616.806629</td>\n",
       "      <td>630943.489339</td>\n",
       "    </tr>\n",
       "    <tr>\n",
       "      <th>Address</th>\n",
       "      <td>208 Michael Ferry Apt. 674\\nLaurabury, NE 3701...</td>\n",
       "      <td>188 Johnson Views Suite 079\\nLake Kathleen, CA...</td>\n",
       "      <td>9127 Elizabeth Stravenue\\nDanieltown, WI 06482...</td>\n",
       "      <td>USS Barnett\\nFPO AP 44820</td>\n",
       "      <td>USNS Raymond\\nFPO AE 09386</td>\n",
       "    </tr>\n",
       "  </tbody>\n",
       "</table>\n",
       "</div>"
      ],
      "text/plain": [
       "                                                                              0  \\\n",
       "Avg. Area Income                                                   79545.458574   \n",
       "Avg. Area House Age                                                    5.682861   \n",
       "Avg. Area Number of Rooms                                              7.009188   \n",
       "Avg. Area Number of Bedrooms                                               4.09   \n",
       "Area Population                                                    23086.800503   \n",
       "Price                                                             1059033.55787   \n",
       "Address                       208 Michael Ferry Apt. 674\\nLaurabury, NE 3701...   \n",
       "\n",
       "                                                                              1  \\\n",
       "Avg. Area Income                                                   79248.642455   \n",
       "Avg. Area House Age                                                      6.0029   \n",
       "Avg. Area Number of Rooms                                              6.730821   \n",
       "Avg. Area Number of Bedrooms                                               3.09   \n",
       "Area Population                                                    40173.072174   \n",
       "Price                                                            1505890.914847   \n",
       "Address                       188 Johnson Views Suite 079\\nLake Kathleen, CA...   \n",
       "\n",
       "                                                                              2  \\\n",
       "Avg. Area Income                                                   61287.067179   \n",
       "Avg. Area House Age                                                     5.86589   \n",
       "Avg. Area Number of Rooms                                              8.512727   \n",
       "Avg. Area Number of Bedrooms                                               5.13   \n",
       "Area Population                                                      36882.1594   \n",
       "Price                                                            1058987.987876   \n",
       "Address                       9127 Elizabeth Stravenue\\nDanieltown, WI 06482...   \n",
       "\n",
       "                                                      3  \\\n",
       "Avg. Area Income                           63345.240046   \n",
       "Avg. Area House Age                            7.188236   \n",
       "Avg. Area Number of Rooms                      5.586729   \n",
       "Avg. Area Number of Bedrooms                       3.26   \n",
       "Area Population                            34310.242831   \n",
       "Price                                    1260616.806629   \n",
       "Address                       USS Barnett\\nFPO AP 44820   \n",
       "\n",
       "                                                       4  \n",
       "Avg. Area Income                            59982.197226  \n",
       "Avg. Area House Age                             5.040555  \n",
       "Avg. Area Number of Rooms                       7.839388  \n",
       "Avg. Area Number of Bedrooms                        4.23  \n",
       "Area Population                             26354.109472  \n",
       "Price                                      630943.489339  \n",
       "Address                       USNS Raymond\\nFPO AE 09386  "
      ]
     },
     "execution_count": 7,
     "metadata": {},
     "output_type": "execute_result"
    }
   ],
   "source": [
    "data.head().T"
   ]
  },
  {
   "cell_type": "code",
   "execution_count": 8,
   "id": "76568d36-1434-4989-9787-b598d9859b3b",
   "metadata": {},
   "outputs": [],
   "source": [
    "X = data.drop(['Price', 'Address'], axis=1) \n",
    "y = data['Price']"
   ]
  },
  {
   "cell_type": "code",
   "execution_count": 9,
   "id": "75733f2a-22a3-4fcc-a4a2-0ca5041464fe",
   "metadata": {},
   "outputs": [
    {
     "data": {
      "text/html": [
       "<div>\n",
       "<style scoped>\n",
       "    .dataframe tbody tr th:only-of-type {\n",
       "        vertical-align: middle;\n",
       "    }\n",
       "\n",
       "    .dataframe tbody tr th {\n",
       "        vertical-align: top;\n",
       "    }\n",
       "\n",
       "    .dataframe thead th {\n",
       "        text-align: right;\n",
       "    }\n",
       "</style>\n",
       "<table border=\"1\" class=\"dataframe\">\n",
       "  <thead>\n",
       "    <tr style=\"text-align: right;\">\n",
       "      <th></th>\n",
       "      <th>Avg. Area Income</th>\n",
       "      <th>Avg. Area House Age</th>\n",
       "      <th>Avg. Area Number of Rooms</th>\n",
       "      <th>Avg. Area Number of Bedrooms</th>\n",
       "      <th>Area Population</th>\n",
       "    </tr>\n",
       "  </thead>\n",
       "  <tbody>\n",
       "    <tr>\n",
       "      <th>0</th>\n",
       "      <td>79545.458574</td>\n",
       "      <td>5.682861</td>\n",
       "      <td>7.009188</td>\n",
       "      <td>4.09</td>\n",
       "      <td>23086.800503</td>\n",
       "    </tr>\n",
       "    <tr>\n",
       "      <th>1</th>\n",
       "      <td>79248.642455</td>\n",
       "      <td>6.002900</td>\n",
       "      <td>6.730821</td>\n",
       "      <td>3.09</td>\n",
       "      <td>40173.072174</td>\n",
       "    </tr>\n",
       "    <tr>\n",
       "      <th>2</th>\n",
       "      <td>61287.067179</td>\n",
       "      <td>5.865890</td>\n",
       "      <td>8.512727</td>\n",
       "      <td>5.13</td>\n",
       "      <td>36882.159400</td>\n",
       "    </tr>\n",
       "    <tr>\n",
       "      <th>3</th>\n",
       "      <td>63345.240046</td>\n",
       "      <td>7.188236</td>\n",
       "      <td>5.586729</td>\n",
       "      <td>3.26</td>\n",
       "      <td>34310.242831</td>\n",
       "    </tr>\n",
       "    <tr>\n",
       "      <th>4</th>\n",
       "      <td>59982.197226</td>\n",
       "      <td>5.040555</td>\n",
       "      <td>7.839388</td>\n",
       "      <td>4.23</td>\n",
       "      <td>26354.109472</td>\n",
       "    </tr>\n",
       "  </tbody>\n",
       "</table>\n",
       "</div>"
      ],
      "text/plain": [
       "   Avg. Area Income  Avg. Area House Age  Avg. Area Number of Rooms  \\\n",
       "0      79545.458574             5.682861                   7.009188   \n",
       "1      79248.642455             6.002900                   6.730821   \n",
       "2      61287.067179             5.865890                   8.512727   \n",
       "3      63345.240046             7.188236                   5.586729   \n",
       "4      59982.197226             5.040555                   7.839388   \n",
       "\n",
       "   Avg. Area Number of Bedrooms  Area Population  \n",
       "0                          4.09     23086.800503  \n",
       "1                          3.09     40173.072174  \n",
       "2                          5.13     36882.159400  \n",
       "3                          3.26     34310.242831  \n",
       "4                          4.23     26354.109472  "
      ]
     },
     "execution_count": 9,
     "metadata": {},
     "output_type": "execute_result"
    }
   ],
   "source": [
    "X.head()"
   ]
  },
  {
   "cell_type": "code",
   "execution_count": 10,
   "id": "35200c82-00c3-4ca7-905c-12975005ccc5",
   "metadata": {},
   "outputs": [
    {
     "data": {
      "text/plain": [
       "0    1.059034e+06\n",
       "1    1.505891e+06\n",
       "2    1.058988e+06\n",
       "3    1.260617e+06\n",
       "4    6.309435e+05\n",
       "Name: Price, dtype: float64"
      ]
     },
     "execution_count": 10,
     "metadata": {},
     "output_type": "execute_result"
    }
   ],
   "source": [
    "y.head()"
   ]
  },
  {
   "cell_type": "code",
   "execution_count": 11,
   "id": "8286e44f-5432-4e61-a6d0-9beb71a33286",
   "metadata": {},
   "outputs": [],
   "source": [
    "X_train, X_test, y_train, y_test = train_test_split(X, y, test_size=0.2, random_state=0)"
   ]
  },
  {
   "cell_type": "code",
   "execution_count": 12,
   "id": "21834e83-9972-4103-9fe3-ac2635f5f247",
   "metadata": {},
   "outputs": [
    {
     "name": "stdout",
     "output_type": "stream",
     "text": [
      "(4000, 5)\n",
      "(1000, 5)\n",
      "(4000,)\n",
      "(1000,)\n"
     ]
    }
   ],
   "source": [
    "print(X_train.shape)\n",
    "print(X_test.shape)\n",
    "print(y_train.shape)\n",
    "print(y_test.shape)"
   ]
  },
  {
   "cell_type": "code",
   "execution_count": 14,
   "id": "f93b6b70-44ee-4b3f-8c12-ddab30d7ef6a",
   "metadata": {},
   "outputs": [
    {
     "data": {
      "text/html": [
       "<div>\n",
       "<style scoped>\n",
       "    .dataframe tbody tr th:only-of-type {\n",
       "        vertical-align: middle;\n",
       "    }\n",
       "\n",
       "    .dataframe tbody tr th {\n",
       "        vertical-align: top;\n",
       "    }\n",
       "\n",
       "    .dataframe thead th {\n",
       "        text-align: right;\n",
       "    }\n",
       "</style>\n",
       "<table border=\"1\" class=\"dataframe\">\n",
       "  <thead>\n",
       "    <tr style=\"text-align: right;\">\n",
       "      <th></th>\n",
       "      <th>Avg. Area Income</th>\n",
       "      <th>Avg. Area House Age</th>\n",
       "      <th>Avg. Area Number of Rooms</th>\n",
       "      <th>Avg. Area Number of Bedrooms</th>\n",
       "      <th>Area Population</th>\n",
       "    </tr>\n",
       "  </thead>\n",
       "  <tbody>\n",
       "    <tr>\n",
       "      <th>2913</th>\n",
       "      <td>80196.242251</td>\n",
       "      <td>6.675697</td>\n",
       "      <td>7.275193</td>\n",
       "      <td>3.17</td>\n",
       "      <td>48694.864144</td>\n",
       "    </tr>\n",
       "    <tr>\n",
       "      <th>3275</th>\n",
       "      <td>74130.606324</td>\n",
       "      <td>6.919663</td>\n",
       "      <td>8.266994</td>\n",
       "      <td>3.24</td>\n",
       "      <td>49958.580994</td>\n",
       "    </tr>\n",
       "    <tr>\n",
       "      <th>775</th>\n",
       "      <td>67384.000373</td>\n",
       "      <td>7.224281</td>\n",
       "      <td>7.809919</td>\n",
       "      <td>6.43</td>\n",
       "      <td>48918.055356</td>\n",
       "    </tr>\n",
       "    <tr>\n",
       "      <th>217</th>\n",
       "      <td>59569.537340</td>\n",
       "      <td>6.279537</td>\n",
       "      <td>7.325380</td>\n",
       "      <td>4.24</td>\n",
       "      <td>31294.652460</td>\n",
       "    </tr>\n",
       "    <tr>\n",
       "      <th>1245</th>\n",
       "      <td>58385.215373</td>\n",
       "      <td>7.588559</td>\n",
       "      <td>6.406118</td>\n",
       "      <td>2.30</td>\n",
       "      <td>41930.375009</td>\n",
       "    </tr>\n",
       "  </tbody>\n",
       "</table>\n",
       "</div>"
      ],
      "text/plain": [
       "      Avg. Area Income  Avg. Area House Age  Avg. Area Number of Rooms  \\\n",
       "2913      80196.242251             6.675697                   7.275193   \n",
       "3275      74130.606324             6.919663                   8.266994   \n",
       "775       67384.000373             7.224281                   7.809919   \n",
       "217       59569.537340             6.279537                   7.325380   \n",
       "1245      58385.215373             7.588559                   6.406118   \n",
       "\n",
       "      Avg. Area Number of Bedrooms  Area Population  \n",
       "2913                          3.17     48694.864144  \n",
       "3275                          3.24     49958.580994  \n",
       "775                           6.43     48918.055356  \n",
       "217                           4.24     31294.652460  \n",
       "1245                          2.30     41930.375009  "
      ]
     },
     "execution_count": 14,
     "metadata": {},
     "output_type": "execute_result"
    }
   ],
   "source": [
    "X_train.head(5)"
   ]
  },
  {
   "cell_type": "code",
   "execution_count": 15,
   "id": "a3ecf64b-6e3f-455a-b5ba-5b3423dd9db7",
   "metadata": {},
   "outputs": [
    {
     "data": {
      "text/html": [
       "<div>\n",
       "<style scoped>\n",
       "    .dataframe tbody tr th:only-of-type {\n",
       "        vertical-align: middle;\n",
       "    }\n",
       "\n",
       "    .dataframe tbody tr th {\n",
       "        vertical-align: top;\n",
       "    }\n",
       "\n",
       "    .dataframe thead th {\n",
       "        text-align: right;\n",
       "    }\n",
       "</style>\n",
       "<table border=\"1\" class=\"dataframe\">\n",
       "  <thead>\n",
       "    <tr style=\"text-align: right;\">\n",
       "      <th></th>\n",
       "      <th>Avg. Area Income</th>\n",
       "      <th>Avg. Area House Age</th>\n",
       "      <th>Avg. Area Number of Rooms</th>\n",
       "      <th>Avg. Area Number of Bedrooms</th>\n",
       "      <th>Area Population</th>\n",
       "    </tr>\n",
       "  </thead>\n",
       "  <tbody>\n",
       "    <tr>\n",
       "      <th>398</th>\n",
       "      <td>61200.726175</td>\n",
       "      <td>5.299694</td>\n",
       "      <td>6.234615</td>\n",
       "      <td>4.23</td>\n",
       "      <td>42789.692217</td>\n",
       "    </tr>\n",
       "    <tr>\n",
       "      <th>3833</th>\n",
       "      <td>63380.814670</td>\n",
       "      <td>5.344664</td>\n",
       "      <td>6.001574</td>\n",
       "      <td>2.45</td>\n",
       "      <td>40217.333577</td>\n",
       "    </tr>\n",
       "    <tr>\n",
       "      <th>4836</th>\n",
       "      <td>71208.269301</td>\n",
       "      <td>5.300326</td>\n",
       "      <td>6.077989</td>\n",
       "      <td>4.01</td>\n",
       "      <td>25696.361741</td>\n",
       "    </tr>\n",
       "    <tr>\n",
       "      <th>4572</th>\n",
       "      <td>50343.763518</td>\n",
       "      <td>6.027468</td>\n",
       "      <td>5.160240</td>\n",
       "      <td>4.35</td>\n",
       "      <td>27445.876739</td>\n",
       "    </tr>\n",
       "    <tr>\n",
       "      <th>636</th>\n",
       "      <td>54535.453719</td>\n",
       "      <td>5.278065</td>\n",
       "      <td>6.871038</td>\n",
       "      <td>4.41</td>\n",
       "      <td>30852.207006</td>\n",
       "    </tr>\n",
       "  </tbody>\n",
       "</table>\n",
       "</div>"
      ],
      "text/plain": [
       "      Avg. Area Income  Avg. Area House Age  Avg. Area Number of Rooms  \\\n",
       "398       61200.726175             5.299694                   6.234615   \n",
       "3833      63380.814670             5.344664                   6.001574   \n",
       "4836      71208.269301             5.300326                   6.077989   \n",
       "4572      50343.763518             6.027468                   5.160240   \n",
       "636       54535.453719             5.278065                   6.871038   \n",
       "\n",
       "      Avg. Area Number of Bedrooms  Area Population  \n",
       "398                           4.23     42789.692217  \n",
       "3833                          2.45     40217.333577  \n",
       "4836                          4.01     25696.361741  \n",
       "4572                          4.35     27445.876739  \n",
       "636                           4.41     30852.207006  "
      ]
     },
     "execution_count": 15,
     "metadata": {},
     "output_type": "execute_result"
    }
   ],
   "source": [
    "X_test.head(5)"
   ]
  },
  {
   "cell_type": "code",
   "execution_count": 16,
   "id": "edd535b1-c31d-4f24-88ba-8fff1004ca23",
   "metadata": {},
   "outputs": [
    {
     "data": {
      "text/plain": [
       "2913    1.616937e+06\n",
       "3275    1.881075e+06\n",
       "775     1.930344e+06\n",
       "217     8.859206e+05\n",
       "1245    1.266210e+06\n",
       "Name: Price, dtype: float64"
      ]
     },
     "execution_count": 16,
     "metadata": {},
     "output_type": "execute_result"
    }
   ],
   "source": [
    "y_train.head(5)"
   ]
  },
  {
   "cell_type": "code",
   "execution_count": 17,
   "id": "2481ab9d-a308-4b57-8c83-9996fc149de2",
   "metadata": {},
   "outputs": [
    {
     "data": {
      "text/plain": [
       "398     894251.068636\n",
       "3833    932979.360621\n",
       "4836    920747.911288\n",
       "4572    691854.921027\n",
       "636     732733.236293\n",
       "Name: Price, dtype: float64"
      ]
     },
     "execution_count": 17,
     "metadata": {},
     "output_type": "execute_result"
    }
   ],
   "source": [
    "y_test.head(5)"
   ]
  },
  {
   "cell_type": "code",
   "execution_count": 18,
   "id": "578ae531-d944-4f38-b64d-d43056399ae0",
   "metadata": {},
   "outputs": [],
   "source": [
    "models = {\n",
    "    'LinearRegression': LinearRegression(),\n",
    "    'RobustRegression': HuberRegressor(),\n",
    "    'RidgeRegression': Ridge(),\n",
    "    'LassoRegression': Lasso(),\n",
    "    'ElasticNet': ElasticNet(),\n",
    "    'PolynomialRegression': Pipeline([('poly', PolynomialFeatures(degree=2)),('linear', LinearRegression())]),\n",
    "    'SGDRegressor': SGDRegressor(),\n",
    "    'ANN': MLPRegressor(hidden_layer_sizes=(100,), max_iter=1000),\n",
    "    'RandomForest': RandomForestRegressor(),\n",
    "    'SVM': SVR(),\n",
    "    'LGBM': lgb.LGBMRegressor(),\n",
    "    'XGBoost': xgb.XGBRegressor(),\n",
    "    'KNN': KNeighborsRegressor()\n",
    "}"
   ]
  },
  {
   "cell_type": "code",
   "execution_count": 19,
   "id": "07f322dc-4bb4-452e-ad8d-e99dcc087a74",
   "metadata": {},
   "outputs": [
    {
     "data": {
      "text/plain": [
       "{'LinearRegression': LinearRegression(),\n",
       " 'RobustRegression': HuberRegressor(),\n",
       " 'RidgeRegression': Ridge(),\n",
       " 'LassoRegression': Lasso(),\n",
       " 'ElasticNet': ElasticNet(),\n",
       " 'PolynomialRegression': Pipeline(steps=[('poly', PolynomialFeatures()), ('linear', LinearRegression())]),\n",
       " 'SGDRegressor': SGDRegressor(),\n",
       " 'ANN': MLPRegressor(max_iter=1000),\n",
       " 'RandomForest': RandomForestRegressor(),\n",
       " 'SVM': SVR(),\n",
       " 'LGBM': LGBMRegressor(),\n",
       " 'XGBoost': XGBRegressor(base_score=None, booster=None, callbacks=None,\n",
       "              colsample_bylevel=None, colsample_bynode=None,\n",
       "              colsample_bytree=None, device=None, early_stopping_rounds=None,\n",
       "              enable_categorical=False, eval_metric=None, feature_types=None,\n",
       "              gamma=None, grow_policy=None, importance_type=None,\n",
       "              interaction_constraints=None, learning_rate=None, max_bin=None,\n",
       "              max_cat_threshold=None, max_cat_to_onehot=None,\n",
       "              max_delta_step=None, max_depth=None, max_leaves=None,\n",
       "              min_child_weight=None, missing=nan, monotone_constraints=None,\n",
       "              multi_strategy=None, n_estimators=None, n_jobs=None,\n",
       "              num_parallel_tree=None, random_state=None, ...),\n",
       " 'KNN': KNeighborsRegressor()}"
      ]
     },
     "execution_count": 19,
     "metadata": {},
     "output_type": "execute_result"
    }
   ],
   "source": [
    "models"
   ]
  },
  {
   "cell_type": "code",
   "execution_count": 20,
   "id": "b79cc084-3ad6-4747-bd36-4dd80421ab43",
   "metadata": {},
   "outputs": [],
   "source": [
    "results = []"
   ]
  },
  {
   "cell_type": "code",
   "execution_count": 21,
   "id": "6bb4d6e8-b77c-4c62-9715-b9c401090e9e",
   "metadata": {},
   "outputs": [
    {
     "name": "stdout",
     "output_type": "stream",
     "text": [
      "[LightGBM] [Warning] Found whitespace in feature_names, replace with underlines\n",
      "[LightGBM] [Info] Auto-choosing col-wise multi-threading, the overhead of testing was 0.000278 seconds.\n",
      "You can set `force_col_wise=true` to remove the overhead.\n",
      "[LightGBM] [Info] Total Bins 1256\n",
      "[LightGBM] [Info] Number of data points in the train set: 4000, number of used features: 5\n",
      "[LightGBM] [Info] Start training from score 1231911.452183\n"
     ]
    }
   ],
   "source": [
    "for name, model in models.items():\n",
    "    model.fit(X_train, y_train)\n",
    "    y_pred = model.predict(X_test)\n",
    "    \n",
    "    mae = mean_absolute_error(y_test, y_pred)\n",
    "    mse = mean_squared_error(y_test, y_pred)\n",
    "    r2 = r2_score(y_test, y_pred)\n",
    "    \n",
    "    results.append({\n",
    "        'Model': name,\n",
    "        'MAE': mae,\n",
    "        'MSE': mse,\n",
    "        'R2': r2\n",
    "    })\n",
    "    \n",
    "    with open(f'{name}.pkl', 'wb') as f:\n",
    "        pickle.dump(model, f)"
   ]
  },
  {
   "cell_type": "code",
   "execution_count": 25,
   "id": "ae26f7e0-d368-428a-bc16-cb1e3cf3a922",
   "metadata": {},
   "outputs": [
    {
     "name": "stdout",
     "output_type": "stream",
     "text": [
      "{'Model': 'LinearRegression', 'MAE': 82657.946058922, 'MSE': 10549721686.159279, 'R2': 0.9146454505138069}\n",
      "{'Model': 'RobustRegression', 'MAE': 199465.55955429267, 'MSE': 61664910393.2493, 'R2': 0.5010881990728193}\n",
      "{'Model': 'RidgeRegression', 'MAE': 82659.67244409776, 'MSE': 10549745186.670172, 'R2': 0.91464526037841}\n",
      "{'Model': 'LassoRegression', 'MAE': 82657.9466217223, 'MSE': 10549717660.356375, 'R2': 0.9146454830853386}\n",
      "{'Model': 'ElasticNet', 'MAE': 99126.80843102589, 'MSE': 15081376466.55959, 'R2': 0.8779812271613102}\n",
      "{'Model': 'PolynomialRegression', 'MAE': 82894.44762396754, 'MSE': 10604968581.895866, 'R2': 0.9141984648931063}\n",
      "{'Model': 'SGDRegressor', 'MAE': 8.42046446778976e+17, 'MSE': 7.308031591253262e+35, 'R2': -5.912703317288927e+24}\n",
      "{'Model': 'ANN', 'MAE': 199249.15581593371, 'MSE': 61446822762.98111, 'R2': 0.5028526789315131}\n",
      "{'Model': 'RandomForest', 'MAE': 98179.85414778364, 'MSE': 15044878234.958931, 'R2': 0.8782765231139422}\n",
      "{'Model': 'SVM', 'MAE': 282947.68758691323, 'MSE': 123546565157.52672, 'R2': 0.0004227861838135283}\n",
      "{'Model': 'LGBM', 'MAE': 92133.9888284538, 'MSE': 13097708114.507051, 'R2': 0.8940304769478327}\n",
      "{'Model': 'XGBoost', 'MAE': 101565.19208841266, 'MSE': 16138680641.877495, 'R2': 0.8694269046645823}\n",
      "{'Model': 'KNN', 'MAE': 198086.23684543537, 'MSE': 60395811313.31432, 'R2': 0.5113560889227768}\n"
     ]
    }
   ],
   "source": [
    "for i in results:\n",
    "    print(i)"
   ]
  },
  {
   "attachments": {
    "edd72461-ff14-4f4a-94d1-02c221d4e811.png": {
     "image/png": "[encoded data removed]"
    }
   },
   "cell_type": "markdown",
   "id": "4b499d55-8eee-4b02-afc7-347e279fcfeb",
   "metadata": {},
   "source": [
    "![image.png](attachment:edd72461-ff14-4f4a-94d1-02c221d4e811.png)"
   ]
  },
  {
   "cell_type": "code",
   "execution_count": 26,
   "id": "dd83547e-7e1a-4704-8483-1433de19f187",
   "metadata": {},
   "outputs": [],
   "source": [
    "results_df = pd.DataFrame(results)\n",
    "results_df.to_csv('model_evaluation_results.csv', index=False)"
   ]
  },
  {
   "cell_type": "code",
   "execution_count": 27,
   "id": "1afa323f-eeb9-46c8-818e-93b62bb1c8bf",
   "metadata": {},
   "outputs": [
    {
     "data": {
      "text/html": [
       "<div>\n",
       "<style scoped>\n",
       "    .dataframe tbody tr th:only-of-type {\n",
       "        vertical-align: middle;\n",
       "    }\n",
       "\n",
       "    .dataframe tbody tr th {\n",
       "        vertical-align: top;\n",
       "    }\n",
       "\n",
       "    .dataframe thead th {\n",
       "        text-align: right;\n",
       "    }\n",
       "</style>\n",
       "<table border=\"1\" class=\"dataframe\">\n",
       "  <thead>\n",
       "    <tr style=\"text-align: right;\">\n",
       "      <th></th>\n",
       "      <th>Model</th>\n",
       "      <th>MAE</th>\n",
       "      <th>MSE</th>\n",
       "      <th>R2</th>\n",
       "    </tr>\n",
       "  </thead>\n",
       "  <tbody>\n",
       "    <tr>\n",
       "      <th>0</th>\n",
       "      <td>LinearRegression</td>\n",
       "      <td>8.265795e+04</td>\n",
       "      <td>1.054972e+10</td>\n",
       "      <td>9.146455e-01</td>\n",
       "    </tr>\n",
       "    <tr>\n",
       "      <th>1</th>\n",
       "      <td>RobustRegression</td>\n",
       "      <td>1.994656e+05</td>\n",
       "      <td>6.166491e+10</td>\n",
       "      <td>5.010882e-01</td>\n",
       "    </tr>\n",
       "    <tr>\n",
       "      <th>2</th>\n",
       "      <td>RidgeRegression</td>\n",
       "      <td>8.265967e+04</td>\n",
       "      <td>1.054975e+10</td>\n",
       "      <td>9.146453e-01</td>\n",
       "    </tr>\n",
       "    <tr>\n",
       "      <th>3</th>\n",
       "      <td>LassoRegression</td>\n",
       "      <td>8.265795e+04</td>\n",
       "      <td>1.054972e+10</td>\n",
       "      <td>9.146455e-01</td>\n",
       "    </tr>\n",
       "    <tr>\n",
       "      <th>4</th>\n",
       "      <td>ElasticNet</td>\n",
       "      <td>9.912681e+04</td>\n",
       "      <td>1.508138e+10</td>\n",
       "      <td>8.779812e-01</td>\n",
       "    </tr>\n",
       "    <tr>\n",
       "      <th>5</th>\n",
       "      <td>PolynomialRegression</td>\n",
       "      <td>8.289445e+04</td>\n",
       "      <td>1.060497e+10</td>\n",
       "      <td>9.141985e-01</td>\n",
       "    </tr>\n",
       "    <tr>\n",
       "      <th>6</th>\n",
       "      <td>SGDRegressor</td>\n",
       "      <td>8.420464e+17</td>\n",
       "      <td>7.308032e+35</td>\n",
       "      <td>-5.912703e+24</td>\n",
       "    </tr>\n",
       "    <tr>\n",
       "      <th>7</th>\n",
       "      <td>ANN</td>\n",
       "      <td>1.992492e+05</td>\n",
       "      <td>6.144682e+10</td>\n",
       "      <td>5.028527e-01</td>\n",
       "    </tr>\n",
       "    <tr>\n",
       "      <th>8</th>\n",
       "      <td>RandomForest</td>\n",
       "      <td>9.817985e+04</td>\n",
       "      <td>1.504488e+10</td>\n",
       "      <td>8.782765e-01</td>\n",
       "    </tr>\n",
       "    <tr>\n",
       "      <th>9</th>\n",
       "      <td>SVM</td>\n",
       "      <td>2.829477e+05</td>\n",
       "      <td>1.235466e+11</td>\n",
       "      <td>4.227862e-04</td>\n",
       "    </tr>\n",
       "    <tr>\n",
       "      <th>10</th>\n",
       "      <td>LGBM</td>\n",
       "      <td>9.213399e+04</td>\n",
       "      <td>1.309771e+10</td>\n",
       "      <td>8.940305e-01</td>\n",
       "    </tr>\n",
       "    <tr>\n",
       "      <th>11</th>\n",
       "      <td>XGBoost</td>\n",
       "      <td>1.015652e+05</td>\n",
       "      <td>1.613868e+10</td>\n",
       "      <td>8.694269e-01</td>\n",
       "    </tr>\n",
       "    <tr>\n",
       "      <th>12</th>\n",
       "      <td>KNN</td>\n",
       "      <td>1.980862e+05</td>\n",
       "      <td>6.039581e+10</td>\n",
       "      <td>5.113561e-01</td>\n",
       "    </tr>\n",
       "  </tbody>\n",
       "</table>\n",
       "</div>"
      ],
      "text/plain": [
       "                   Model           MAE           MSE            R2\n",
       "0       LinearRegression  8.265795e+04  1.054972e+10  9.146455e-01\n",
       "1       RobustRegression  1.994656e+05  6.166491e+10  5.010882e-01\n",
       "2        RidgeRegression  8.265967e+04  1.054975e+10  9.146453e-01\n",
       "3        LassoRegression  8.265795e+04  1.054972e+10  9.146455e-01\n",
       "4             ElasticNet  9.912681e+04  1.508138e+10  8.779812e-01\n",
       "5   PolynomialRegression  8.289445e+04  1.060497e+10  9.141985e-01\n",
       "6           SGDRegressor  8.420464e+17  7.308032e+35 -5.912703e+24\n",
       "7                    ANN  1.992492e+05  6.144682e+10  5.028527e-01\n",
       "8           RandomForest  9.817985e+04  1.504488e+10  8.782765e-01\n",
       "9                    SVM  2.829477e+05  1.235466e+11  4.227862e-04\n",
       "10                  LGBM  9.213399e+04  1.309771e+10  8.940305e-01\n",
       "11               XGBoost  1.015652e+05  1.613868e+10  8.694269e-01\n",
       "12                   KNN  1.980862e+05  6.039581e+10  5.113561e-01"
      ]
     },
     "execution_count": 27,
     "metadata": {},
     "output_type": "execute_result"
    }
   ],
   "source": [
    "results_df"
   ]
  },
  {
   "cell_type": "code",
   "execution_count": 28,
   "id": "52798256-c41f-4b97-b346-b63cc7c0a96a",
   "metadata": {},
   "outputs": [
    {
     "name": "stdout",
     "output_type": "stream",
     "text": [
      "Models have been trained and saved as pickle files. Evaluation results have been saved to model_evaluation_results.csv.\n"
     ]
    }
   ],
   "source": [
    "print(\"Models have been trained and saved as pickle files. Evaluation results have been saved to model_evaluation_results.csv.\")"
   ]
  }
 ],
 "metadata": {
  "kernelspec": {
   "display_name": "Python 3 (ipykernel)",
   "language": "python",
   "name": "python3"
  },
  "language_info": {
   "codemirror_mode": {
    "name": "ipython",
    "version": 3
   },
   "file_extension": ".py",
   "mimetype": "text/x-python",
   "name": "python",
   "nbconvert_exporter": "python",
   "pygments_lexer": "ipython3",
   "version": "3.12.4"
  }
 },
 "nbformat": 4,
 "nbformat_minor": 5
}
